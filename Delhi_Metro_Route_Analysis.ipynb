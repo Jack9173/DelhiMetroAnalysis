{
  "nbformat": 4,
  "nbformat_minor": 0,
  "metadata": {
    "colab": {
      "provenance": []
    },
    "kernelspec": {
      "name": "python3",
      "display_name": "Python 3"
    },
    "language_info": {
      "name": "python"
    }
  },
  "cells": [
    {
      "cell_type": "markdown",
      "source": [
        "# **Delhi Metro Network Analysis:**\n",
        "Analyzing the metro network in a city like Delhi helps improve urban transportation infrastructure, leading to better city planning and enhanced commuter experiences. Below is the process we can follow for the task of Metro Network Analysis of Delhi:\n",
        "\n",
        "Determine what I want to achieve here. It could be optimizing routes, reducing congestion, improving passenger flow, or understanding travel patterns.\n",
        "\n",
        "Collect data on metro lines, stations, connections, and transit schedules.\n",
        "\n",
        "Clean the data for inconsistencies, missing values, or errors.\n",
        "\n",
        "Create visual representations of the network, such as route maps, passenger flow charts, or heat maps of station congestion.\n",
        "\n",
        "Analyze how effectively the network handles passenger traffic and meets operational targets.\n",
        "\n",
        "So, for the task of Delhi Metro Network Analysis, we need to have a dataset based on all metro lines in Delhi and how they connect with each other.\n",
        "\n"
      ],
      "metadata": {
        "id": "9KlgDuDPYb_b"
      }
    },
    {
      "cell_type": "markdown",
      "source": [
        "# **Metro Network Analysis using Python**"
      ],
      "metadata": {
        "id": "D4inW4U6Zdkn"
      }
    },
    {
      "cell_type": "code",
      "source": [
        "import pandas as pd\n",
        "import folium\n",
        "import plotly.express as px\n",
        "import plotly.graph_objects as go\n",
        "from plotly.subplots import make_subplots\n",
        "import plotly.io as pio\n",
        "pio.templates.default = \"plotly_white\"\n",
        "\n",
        "metro_data = pd.read_csv(\"/content/Delhi-Metro-Network.csv\")\n",
        "\n",
        "print(metro_data.head())"
      ],
      "metadata": {
        "id": "ASH9r2FuZSHX"
      },
      "execution_count": null,
      "outputs": []
    },
    {
      "cell_type": "markdown",
      "source": [
        "Now, let’s have a look at whether the dataset has any null values or not and then look at the data types:"
      ],
      "metadata": {
        "id": "J3Q6h4IdaG9C"
      }
    },
    {
      "cell_type": "code",
      "source": [
        "# checking for missing values\n",
        "missing_values = metro_data.isnull().sum()\n",
        "\n",
        "# checking data types\n",
        "data_types = metro_data.dtypes\n",
        "\n",
        "missing_values"
      ],
      "metadata": {
        "id": "4hPbhuPkZ_Mv"
      },
      "execution_count": null,
      "outputs": []
    },
    {
      "cell_type": "markdown",
      "source": [
        "Now, I’ll convert the Opening Date column to a datetime format for ease of analysis:"
      ],
      "metadata": {
        "id": "iOaCSpQUaYEy"
      }
    },
    {
      "cell_type": "code",
      "source": [
        "# converting 'Opening Date' to datetime format\n",
        "metro_data['Opening Date'] = pd.to_datetime(metro_data['Opening Date'])"
      ],
      "metadata": {
        "id": "iEbsFeFVaOjJ"
      },
      "execution_count": 3,
      "outputs": []
    },
    {
      "cell_type": "markdown",
      "source": [
        "**Geospatial Analysis:**\n",
        "\n",
        "Now, I’ll start by visualizing the locations of the metro stations on a map. It will give us an insight into the geographical distribution of the stations across Delhi. We will use the latitude and longitude data to plot each station.\n",
        "\n",
        "For this, I’ll create a map with markers for each metro station. Each marker will represent a station, and we’ll be able to analyze aspects like station density and geographic spread. Let’s proceed with this visualization:"
      ],
      "metadata": {
        "id": "SqEf1Qnzahbn"
      }
    },
    {
      "cell_type": "code",
      "source": [
        "# defining a color scheme for the metro lines\n",
        "line_colors = {\n",
        "    'Red line': 'red',\n",
        "    'Blue line': 'blue',\n",
        "    'Yellow line': 'beige',\n",
        "    'Green line': 'green',\n",
        "    'Voilet line': 'purple',\n",
        "    'Pink line': 'pink',\n",
        "    'Magenta line': 'darkred',\n",
        "    'Orange line': 'orange',\n",
        "    'Rapid Metro': 'cadetblue',\n",
        "    'Aqua line': 'black',\n",
        "    'Green line branch': 'lightgreen',\n",
        "    'Blue line branch': 'lightblue',\n",
        "    'Gray line': 'lightgray'\n",
        "}\n",
        "\n",
        "delhi_map_with_line_tooltip = folium.Map(location=[28.7041, 77.1025], zoom_start=11)\n",
        "\n",
        "# adding colored markers for each metro station with line name in tooltip\n",
        "for index, row in metro_data.iterrows():\n",
        "    line = row['Line']\n",
        "    color = line_colors.get(line, 'black')  # Default color is black if line not found in the dictionary\n",
        "    folium.Marker(\n",
        "        location=[row['Latitude'], row['Longitude']],\n",
        "        popup=f\"{row['Station Name']}\",\n",
        "        tooltip=f\"{row['Station Name']}, {line}\",\n",
        "        icon=folium.Icon(color=color)\n",
        "    ).add_to(delhi_map_with_line_tooltip)\n",
        "\n",
        "# Displaying the updated map\n",
        "delhi_map_with_line_tooltip"
      ],
      "metadata": {
        "id": "HobX6idQab9-"
      },
      "execution_count": null,
      "outputs": []
    },
    {
      "cell_type": "markdown",
      "source": [
        "**Temporal Analysis:**\n",
        "\n",
        "Now, I will analyze the growth of the Delhi Metro network over time. I’ll look at how many stations were opened each year and visualize this growth. It can provide insights into the pace of metro network expansion and its development phases.\n",
        "\n",
        "I’ll start by extracting the year from the Opening Date and then count the number of stations opened each year. Following this, I’ll visualize this information in a bar plot. Let’s proceed with this analysis:"
      ],
      "metadata": {
        "id": "RRuAYPSCa5No"
      }
    },
    {
      "cell_type": "code",
      "source": [
        "metro_data['Opening Year'] = metro_data['Opening Date'].dt.year\n",
        "\n",
        "# counting the number of stations opened each year\n",
        "stations_per_year = metro_data['Opening Year'].value_counts().sort_index()\n",
        "\n",
        "stations_per_year_df = stations_per_year.reset_index()\n",
        "stations_per_year_df.columns = ['Year', 'Number of Stations']\n",
        "\n",
        "fig = px.bar(stations_per_year_df, x='Year', y='Number of Stations',\n",
        "             title=\"Number of Metro Stations Opened Each Year in Delhi\",\n",
        "             labels={'Year': 'Year', 'Number of Stations': 'Number of Stations Opened'})\n",
        "\n",
        "fig.update_layout(xaxis_tickangle=-45, xaxis=dict(tickmode='linear'),\n",
        "                  yaxis=dict(title='Number of Stations Opened'),\n",
        "                  xaxis_title=\"Year\")\n",
        "\n",
        "fig.show()"
      ],
      "metadata": {
        "id": "0ggV7Zuhavy1"
      },
      "execution_count": null,
      "outputs": []
    },
    {
      "cell_type": "markdown",
      "source": [
        "**Line Analysis:**\n",
        "\n",
        "Now, I’ll analyze the various metro lines in terms of the number of stations they have and the average distance between stations. It will give us insights into the characteristics of each metro line, such as which lines are more extensive or denser.\n",
        "\n",
        "I’ll calculate the number of stations per line and the average distance between stations on each line. I’ll then visualize these metrics to better understand the differences between the lines. Let’s start with these calculations:"
      ],
      "metadata": {
        "id": "TK6X4F-8bL2q"
      }
    },
    {
      "cell_type": "code",
      "source": [
        "stations_per_line = metro_data['Line'].value_counts()\n",
        "\n",
        "# calculating the total distance of each metro line (max distance from start)\n",
        "total_distance_per_line = metro_data.groupby('Line')['Distance from Start (km)'].max()\n",
        "\n",
        "avg_distance_per_line = total_distance_per_line / (stations_per_line - 1)\n",
        "\n",
        "line_analysis = pd.DataFrame({\n",
        "    'Line': stations_per_line.index,\n",
        "    'Number of Stations': stations_per_line.values,\n",
        "    'Average Distance Between Stations (km)': avg_distance_per_line\n",
        "})\n",
        "\n",
        "# sorting the DataFrame by the number of stations\n",
        "line_analysis = line_analysis.sort_values(by='Number of Stations', ascending=False)\n",
        "\n",
        "line_analysis.reset_index(drop=True, inplace=True)\n",
        "print(line_analysis)"
      ],
      "metadata": {
        "id": "mWey-S19bACE"
      },
      "execution_count": null,
      "outputs": []
    },
    {
      "cell_type": "markdown",
      "source": [
        "The table presents a detailed analysis of the Delhi Metro lines, including the number of stations on each line and the average distance between stations.\n",
        "\n",
        "To better understand these metrics, let’s visualize them. I’ll create two plots: one for the number of stations per line and another for the average distance between stations. It will provide a comparative view of the metro lines:\n",
        "\n"
      ],
      "metadata": {
        "id": "Ulm5rLGdbifl"
      }
    },
    {
      "cell_type": "code",
      "source": [
        "# creating subplots\n",
        "fig = make_subplots(rows=1, cols=2, subplot_titles=('Number of Stations Per Metro Line',\n",
        "                                                    'Average Distance Between Stations Per Metro Line'),\n",
        "                    horizontal_spacing=0.2)\n",
        "\n",
        "# plot for Number of Stations per Line\n",
        "fig.add_trace(\n",
        "    go.Bar(y=line_analysis['Line'], x=line_analysis['Number of Stations'],\n",
        "           orientation='h', name='Number of Stations', marker_color='crimson'),\n",
        "    row=1, col=1\n",
        ")\n",
        "\n",
        "# plot for Average Distance Between Stations\n",
        "fig.add_trace(\n",
        "    go.Bar(y=line_analysis['Line'], x=line_analysis['Average Distance Between Stations (km)'],\n",
        "           orientation='h', name='Average Distance (km)', marker_color='navy'),\n",
        "    row=1, col=2\n",
        ")\n",
        "\n",
        "# update xaxis properties\n",
        "fig.update_xaxes(title_text=\"Number of Stations\", row=1, col=1)\n",
        "fig.update_xaxes(title_text=\"Average Distance Between Stations (km)\", row=1, col=2)\n",
        "\n",
        "# update yaxis properties\n",
        "fig.update_yaxes(title_text=\"Metro Line\", row=1, col=1)\n",
        "fig.update_yaxes(title_text=\"\", row=1, col=2)\n",
        "\n",
        "# update layout\n",
        "fig.update_layout(height=600, width=1200, title_text=\"Metro Line Analysis\", template=\"plotly_white\")\n",
        "\n",
        "fig.show()"
      ],
      "metadata": {
        "id": "AwbxA6y4bTUj"
      },
      "execution_count": null,
      "outputs": []
    },
    {
      "cell_type": "markdown",
      "source": [
        "**Station Layout Analysis:**\n",
        "\n",
        "Next, I’ll explore the station layouts (Elevated, Ground Level, Underground). I’ll analyze the distribution of these layouts across the network and see if there are any patterns or trends, such as certain lines favouring a particular layout.\n",
        "\n",
        "I’ll calculate the frequency of each layout type and then visualize these frequencies to get a clearer picture of the layout distribution. Let’s proceed with this:"
      ],
      "metadata": {
        "id": "-0hg7uQGb2de"
      }
    },
    {
      "cell_type": "code",
      "source": [
        "layout_counts = metro_data['Station Layout'].value_counts()\n",
        "\n",
        "# creating the bar plot using Plotly\n",
        "fig = px.bar(x=layout_counts.index, y=layout_counts.values,\n",
        "             labels={'x': 'Station Layout', 'y': 'Number of Stations'},\n",
        "             title='Distribution of Delhi Metro Station Layouts',\n",
        "             color=layout_counts.index,\n",
        "             color_continuous_scale='pastel')\n",
        "\n",
        "# updating layout for better presentation\n",
        "fig.update_layout(xaxis_title=\"Station Layout\",\n",
        "                  yaxis_title=\"Number of Stations\",\n",
        "                  coloraxis_showscale=False,\n",
        "                  template=\"plotly_white\")\n",
        "\n",
        "fig.show()"
      ],
      "metadata": {
        "id": "gu5yIFeKbpnE"
      },
      "execution_count": null,
      "outputs": []
    }
  ]
}